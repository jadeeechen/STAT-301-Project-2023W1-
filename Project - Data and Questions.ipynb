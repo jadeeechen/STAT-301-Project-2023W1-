{
 "cells": [
  {
   "cell_type": "markdown",
   "id": "5a619ebe-4be7-4551-927e-a5b2f6870b20",
   "metadata": {},
   "source": [
    "<span style=\"color:red\">TODO</span>\n",
    "\n",
    "1. Data:\n",
    "    In the contract you identified a dataset to work with your group. In this assignment, provide a full description of the dataset chosen.\n",
    "\n",
    "    Note that the selected dataset will probably contain more variables than you need. In fact, exploring how the different variables in the dataset affect your model may be crucial part of the project. Regardless of which variables you plan to use, provide a full descriptive summary of the dataset. This is not an Exploratory Data Analysis, just a characterization of the data. Include information such as: number of observations, number of variables, name and type of variables, etc. You may want to use a table or bullet points to describe the variables in the dataset.\n",
    "\n",
    "    Include a brief description of the dataset indicating how the data has been collected or where it comes from.\n",
    "\n",
    "2. Question:\n",
    "\n",
    "    Clearly state the question you will try to answer using the selected dataset. Your question should involve one random variable of interest (the response) and one or more explanatory variables. Describe clearly how the data will help you address the question of interest. Explain whether your question is focused on prediction, inference, or both.\n",
    "\n",
    "    It is fine to have the same question as other group members. However, you don’t need to agree on a unique common question for the group project. In fact, usually many questions can be answered with the same dataset. Regardless of how many questions are proposed within each group, each team member needs to state and justify a question of interest.\n",
    "\n",
    "3. Prof email\n",
    "\n",
    "     However, in the Data&Question assignment you need to justify your choice related to the questions of interest. Thus, you need to think if the data is appropriate for the topic of study and if the topic is appropriate for the course.\n",
    "     \n",
    "     You can change the questions and the analysis as you progress on the project work but you can't change the data.\n",
    "     \n",
    "     There is no an ideal size for the data. You need to make that call. We'll study later in the course methods when there are more features than observations.\n",
    "     You can re-use a dataset from a previous course but you need to use it in the context of the topics covered in STAT301.\n",
    "     You can not use a dataset used already in the course.\n",
    "     I've sent a message through a PIAZZA post about focusing on A/B testing for the project.\n",
    "     I highly recommend you all to work through a GitHub repository that can communicate with JH. You've done this in DSCI 100!!! Check the book for references on how to. GH is a good way to interact in group and as a side feature, commits and communication can be used to demonstrate participation!\n",
    " \n",
    " 4. Piazza\n",
    " \n",
    "     No need to wrangle with the data, unless required to understand it better in order to describe it"
   ]
  },
  {
   "cell_type": "code",
   "execution_count": 1,
   "id": "af3574c9-1a31-4e65-b148-7f5c68b6c28d",
   "metadata": {
    "tags": []
   },
   "outputs": [
    {
     "name": "stderr",
     "output_type": "stream",
     "text": [
      "── \u001b[1mAttaching core tidyverse packages\u001b[22m ──────────────────────── tidyverse 2.0.0 ──\n",
      "\u001b[32m✔\u001b[39m \u001b[34mdplyr    \u001b[39m 1.1.3     \u001b[32m✔\u001b[39m \u001b[34mreadr    \u001b[39m 2.1.4\n",
      "\u001b[32m✔\u001b[39m \u001b[34mforcats  \u001b[39m 1.0.0     \u001b[32m✔\u001b[39m \u001b[34mstringr  \u001b[39m 1.5.0\n",
      "\u001b[32m✔\u001b[39m \u001b[34mggplot2  \u001b[39m 3.4.3     \u001b[32m✔\u001b[39m \u001b[34mtibble   \u001b[39m 3.2.1\n",
      "\u001b[32m✔\u001b[39m \u001b[34mlubridate\u001b[39m 1.9.3     \u001b[32m✔\u001b[39m \u001b[34mtidyr    \u001b[39m 1.3.0\n",
      "\u001b[32m✔\u001b[39m \u001b[34mpurrr    \u001b[39m 1.0.2     \n",
      "── \u001b[1mConflicts\u001b[22m ────────────────────────────────────────── tidyverse_conflicts() ──\n",
      "\u001b[31m✖\u001b[39m \u001b[34mdplyr\u001b[39m::\u001b[32mfilter()\u001b[39m masks \u001b[34mstats\u001b[39m::filter()\n",
      "\u001b[31m✖\u001b[39m \u001b[34mdplyr\u001b[39m::\u001b[32mlag()\u001b[39m    masks \u001b[34mstats\u001b[39m::lag()\n",
      "\u001b[36mℹ\u001b[39m Use the conflicted package (\u001b[3m\u001b[34m<http://conflicted.r-lib.org/>\u001b[39m\u001b[23m) to force all conflicts to become errors\n",
      "\n",
      "Attaching package: ‘cowplot’\n",
      "\n",
      "\n",
      "The following object is masked from ‘package:lubridate’:\n",
      "\n",
      "    stamp\n",
      "\n",
      "\n",
      "Registered S3 method overwritten by 'GGally':\n",
      "  method from   \n",
      "  +.gg   ggplot2\n",
      "\n",
      "Loading required package: car\n",
      "\n",
      "Loading required package: carData\n",
      "\n",
      "\n",
      "Attaching package: ‘car’\n",
      "\n",
      "\n",
      "The following object is masked from ‘package:dplyr’:\n",
      "\n",
      "    recode\n",
      "\n",
      "\n",
      "The following object is masked from ‘package:purrr’:\n",
      "\n",
      "    some\n",
      "\n",
      "\n",
      "Loading required package: lmtest\n",
      "\n",
      "Loading required package: zoo\n",
      "\n",
      "\n",
      "Attaching package: ‘zoo’\n",
      "\n",
      "\n",
      "The following objects are masked from ‘package:base’:\n",
      "\n",
      "    as.Date, as.Date.numeric\n",
      "\n",
      "\n",
      "Loading required package: sandwich\n",
      "\n",
      "Loading required package: survival\n",
      "\n"
     ]
    }
   ],
   "source": [
    "library(tidyverse)\n",
    "library(repr)\n",
    "library(infer)\n",
    "library(cowplot)\n",
    "library(broom)\n",
    "library(GGally)\n",
    "library(AER)"
   ]
  },
  {
   "cell_type": "markdown",
   "id": "4ef23423-bf01-4237-9325-82dff61802fb",
   "metadata": {
    "tags": []
   },
   "source": [
    "### Read Data\n",
    "Read in data and split by delimiter `;` to have one feature per column."
   ]
  },
  {
   "cell_type": "code",
   "execution_count": 31,
   "id": "07cb11be-e928-495a-afd9-aa76965824f5",
   "metadata": {
    "tags": []
   },
   "outputs": [
    {
     "name": "stderr",
     "output_type": "stream",
     "text": [
      "\u001b[1mRows: \u001b[22m\u001b[34m395\u001b[39m \u001b[1mColumns: \u001b[22m\u001b[34m1\u001b[39m\n",
      "\u001b[36m──\u001b[39m \u001b[1mColumn specification\u001b[22m \u001b[36m────────────────────────────────────────────────────────\u001b[39m\n",
      "\u001b[1mDelimiter:\u001b[22m \",\"\n",
      "\u001b[31mchr\u001b[39m (1): school;sex;age;address;famsize;Pstatus;Medu;Fedu;Mjob;Fjob;reason;g...\n",
      "\n",
      "\u001b[36mℹ\u001b[39m Use `spec()` to retrieve the full column specification for this data.\n",
      "\u001b[36mℹ\u001b[39m Specify the column types or set `show_col_types = FALSE` to quiet this message.\n"
     ]
    },
    {
     "data": {
      "text/html": [
       "<table class=\"dataframe\">\n",
       "<caption>A tibble: 6 × 33</caption>\n",
       "<thead>\n",
       "\t<tr><th scope=col>School</th><th scope=col>Sex</th><th scope=col>Age</th><th scope=col>Address</th><th scope=col>Family Size</th><th scope=col>Pstatus</th><th scope=col>Medu</th><th scope=col>Fedu</th><th scope=col>Mjob</th><th scope=col>Fjob</th><th scope=col>⋯</th><th scope=col>Famrel</th><th scope=col>Freetime</th><th scope=col>Goout</th><th scope=col>Dalc</th><th scope=col>Walc</th><th scope=col>health</th><th scope=col>absences</th><th scope=col>G1</th><th scope=col>G2</th><th scope=col>G3</th></tr>\n",
       "\t<tr><th scope=col>&lt;chr&gt;</th><th scope=col>&lt;chr&gt;</th><th scope=col>&lt;chr&gt;</th><th scope=col>&lt;chr&gt;</th><th scope=col>&lt;chr&gt;</th><th scope=col>&lt;chr&gt;</th><th scope=col>&lt;chr&gt;</th><th scope=col>&lt;chr&gt;</th><th scope=col>&lt;chr&gt;</th><th scope=col>&lt;chr&gt;</th><th scope=col>⋯</th><th scope=col>&lt;chr&gt;</th><th scope=col>&lt;chr&gt;</th><th scope=col>&lt;chr&gt;</th><th scope=col>&lt;chr&gt;</th><th scope=col>&lt;chr&gt;</th><th scope=col>&lt;chr&gt;</th><th scope=col>&lt;chr&gt;</th><th scope=col>&lt;chr&gt;</th><th scope=col>&lt;chr&gt;</th><th scope=col>&lt;chr&gt;</th></tr>\n",
       "</thead>\n",
       "<tbody>\n",
       "\t<tr><td>GP</td><td>F</td><td>18</td><td>U</td><td>GT3</td><td>A</td><td>4</td><td>4</td><td>at_home </td><td>teacher </td><td>⋯</td><td>4</td><td>3</td><td>4</td><td>1</td><td>1</td><td>3</td><td>6 </td><td>5 </td><td>6 </td><td>6 </td></tr>\n",
       "\t<tr><td>GP</td><td>F</td><td>17</td><td>U</td><td>GT3</td><td>T</td><td>1</td><td>1</td><td>at_home </td><td>other   </td><td>⋯</td><td>5</td><td>3</td><td>3</td><td>1</td><td>1</td><td>3</td><td>4 </td><td>5 </td><td>5 </td><td>6 </td></tr>\n",
       "\t<tr><td>GP</td><td>F</td><td>15</td><td>U</td><td>LE3</td><td>T</td><td>1</td><td>1</td><td>at_home </td><td>other   </td><td>⋯</td><td>4</td><td>3</td><td>2</td><td>2</td><td>3</td><td>3</td><td>10</td><td>7 </td><td>8 </td><td>10</td></tr>\n",
       "\t<tr><td>GP</td><td>F</td><td>15</td><td>U</td><td>GT3</td><td>T</td><td>4</td><td>2</td><td>health  </td><td>services</td><td>⋯</td><td>3</td><td>2</td><td>2</td><td>1</td><td>1</td><td>5</td><td>2 </td><td>15</td><td>14</td><td>15</td></tr>\n",
       "\t<tr><td>GP</td><td>F</td><td>16</td><td>U</td><td>GT3</td><td>T</td><td>3</td><td>3</td><td>other   </td><td>other   </td><td>⋯</td><td>4</td><td>3</td><td>2</td><td>1</td><td>2</td><td>5</td><td>4 </td><td>6 </td><td>10</td><td>10</td></tr>\n",
       "\t<tr><td>GP</td><td>M</td><td>16</td><td>U</td><td>LE3</td><td>T</td><td>4</td><td>3</td><td>services</td><td>other   </td><td>⋯</td><td>5</td><td>4</td><td>2</td><td>1</td><td>2</td><td>5</td><td>10</td><td>15</td><td>15</td><td>15</td></tr>\n",
       "</tbody>\n",
       "</table>\n"
      ],
      "text/latex": [
       "A tibble: 6 × 33\n",
       "\\begin{tabular}{lllllllllllllllllllll}\n",
       " School & Sex & Age & Address & Family Size & Pstatus & Medu & Fedu & Mjob & Fjob & ⋯ & Famrel & Freetime & Goout & Dalc & Walc & health & absences & G1 & G2 & G3\\\\\n",
       " <chr> & <chr> & <chr> & <chr> & <chr> & <chr> & <chr> & <chr> & <chr> & <chr> & ⋯ & <chr> & <chr> & <chr> & <chr> & <chr> & <chr> & <chr> & <chr> & <chr> & <chr>\\\\\n",
       "\\hline\n",
       "\t GP & F & 18 & U & GT3 & A & 4 & 4 & at\\_home  & teacher  & ⋯ & 4 & 3 & 4 & 1 & 1 & 3 & 6  & 5  & 6  & 6 \\\\\n",
       "\t GP & F & 17 & U & GT3 & T & 1 & 1 & at\\_home  & other    & ⋯ & 5 & 3 & 3 & 1 & 1 & 3 & 4  & 5  & 5  & 6 \\\\\n",
       "\t GP & F & 15 & U & LE3 & T & 1 & 1 & at\\_home  & other    & ⋯ & 4 & 3 & 2 & 2 & 3 & 3 & 10 & 7  & 8  & 10\\\\\n",
       "\t GP & F & 15 & U & GT3 & T & 4 & 2 & health   & services & ⋯ & 3 & 2 & 2 & 1 & 1 & 5 & 2  & 15 & 14 & 15\\\\\n",
       "\t GP & F & 16 & U & GT3 & T & 3 & 3 & other    & other    & ⋯ & 4 & 3 & 2 & 1 & 2 & 5 & 4  & 6  & 10 & 10\\\\\n",
       "\t GP & M & 16 & U & LE3 & T & 4 & 3 & services & other    & ⋯ & 5 & 4 & 2 & 1 & 2 & 5 & 10 & 15 & 15 & 15\\\\\n",
       "\\end{tabular}\n"
      ],
      "text/markdown": [
       "\n",
       "A tibble: 6 × 33\n",
       "\n",
       "| School &lt;chr&gt; | Sex &lt;chr&gt; | Age &lt;chr&gt; | Address &lt;chr&gt; | Family Size &lt;chr&gt; | Pstatus &lt;chr&gt; | Medu &lt;chr&gt; | Fedu &lt;chr&gt; | Mjob &lt;chr&gt; | Fjob &lt;chr&gt; | ⋯ ⋯ | Famrel &lt;chr&gt; | Freetime &lt;chr&gt; | Goout &lt;chr&gt; | Dalc &lt;chr&gt; | Walc &lt;chr&gt; | health &lt;chr&gt; | absences &lt;chr&gt; | G1 &lt;chr&gt; | G2 &lt;chr&gt; | G3 &lt;chr&gt; |\n",
       "|---|---|---|---|---|---|---|---|---|---|---|---|---|---|---|---|---|---|---|---|---|\n",
       "| GP | F | 18 | U | GT3 | A | 4 | 4 | at_home  | teacher  | ⋯ | 4 | 3 | 4 | 1 | 1 | 3 | 6  | 5  | 6  | 6  |\n",
       "| GP | F | 17 | U | GT3 | T | 1 | 1 | at_home  | other    | ⋯ | 5 | 3 | 3 | 1 | 1 | 3 | 4  | 5  | 5  | 6  |\n",
       "| GP | F | 15 | U | LE3 | T | 1 | 1 | at_home  | other    | ⋯ | 4 | 3 | 2 | 2 | 3 | 3 | 10 | 7  | 8  | 10 |\n",
       "| GP | F | 15 | U | GT3 | T | 4 | 2 | health   | services | ⋯ | 3 | 2 | 2 | 1 | 1 | 5 | 2  | 15 | 14 | 15 |\n",
       "| GP | F | 16 | U | GT3 | T | 3 | 3 | other    | other    | ⋯ | 4 | 3 | 2 | 1 | 2 | 5 | 4  | 6  | 10 | 10 |\n",
       "| GP | M | 16 | U | LE3 | T | 4 | 3 | services | other    | ⋯ | 5 | 4 | 2 | 1 | 2 | 5 | 10 | 15 | 15 | 15 |\n",
       "\n"
      ],
      "text/plain": [
       "  School Sex Age Address Family Size Pstatus Medu Fedu Mjob     Fjob     ⋯\n",
       "1 GP     F   18  U       GT3         A       4    4    at_home  teacher  ⋯\n",
       "2 GP     F   17  U       GT3         T       1    1    at_home  other    ⋯\n",
       "3 GP     F   15  U       LE3         T       1    1    at_home  other    ⋯\n",
       "4 GP     F   15  U       GT3         T       4    2    health   services ⋯\n",
       "5 GP     F   16  U       GT3         T       3    3    other    other    ⋯\n",
       "6 GP     M   16  U       LE3         T       4    3    services other    ⋯\n",
       "  Famrel Freetime Goout Dalc Walc health absences G1 G2 G3\n",
       "1 4      3        4     1    1    3      6        5  6  6 \n",
       "2 5      3        3     1    1    3      4        5  5  6 \n",
       "3 4      3        2     2    3    3      10       7  8  10\n",
       "4 3      2        2     1    1    5      2        15 14 15\n",
       "5 4      3        2     1    2    5      4        6  10 10\n",
       "6 5      4        2     1    2    5      10       15 15 15"
      ]
     },
     "metadata": {},
     "output_type": "display_data"
    }
   ],
   "source": [
    "data <- read_csv('student-mat.csv') |>\n",
    "    separate_wider_delim(cols = 'school;sex;age;address;famsize;Pstatus;Medu;Fedu;Mjob;Fjob;reason;guardian;traveltime;studytime;failures;schoolsup;famsup;paid;activities;nursery;higher;internet;romantic;famrel;freetime;goout;Dalc;Walc;health;absences;G1;G2;G3',\n",
    "                         delim = \";\",\n",
    "                         names = c('School', 'Sex', 'Age', 'Address', 'Family Size', 'Pstatus', 'Medu', 'Fedu', 'Mjob', 'Fjob', 'Reason', 'Guardian', 'Travel Time', 'Study Time', 'Failures', 'Schoolsup;', 'Famsup', 'Paid', 'Activities', 'Nursery', 'Higher', 'Internet', 'Romantic', 'Famrel', 'Freetime', 'Goout', 'Dalc', 'Walc', 'health', 'absences', 'G1', 'G2', 'G3')\n",
    "                        )\n",
    "head(data)"
   ]
  },
  {
   "cell_type": "markdown",
   "id": "b5a8863b-9aac-4c57-947e-74bc17834bdd",
   "metadata": {},
   "source": [
    "<span style=\"color:red\">TODO</span>: Note that the selected dataset will probably contain more variables than you need. In fact, exploring how the different variables in the dataset affect your model may be crucial part of the project. "
   ]
  },
  {
   "cell_type": "markdown",
   "id": "7b6f4012-fc50-41e0-8205-f8fa92d92daa",
   "metadata": {},
   "source": [
    "<span style=\"color:red\">TODO</span>: Number of observations, number of variables, name and type of variable"
   ]
  },
  {
   "cell_type": "code",
   "execution_count": null,
   "id": "8094729a-b896-4ab9-bcaa-ccfc12fdb9de",
   "metadata": {},
   "outputs": [],
   "source": []
  }
 ],
 "metadata": {
  "kernelspec": {
   "display_name": "R",
   "language": "R",
   "name": "ir"
  },
  "language_info": {
   "codemirror_mode": "r",
   "file_extension": ".r",
   "mimetype": "text/x-r-source",
   "name": "R",
   "pygments_lexer": "r",
   "version": "4.2.3"
  }
 },
 "nbformat": 4,
 "nbformat_minor": 5
}
